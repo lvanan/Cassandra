{
 "cells": [
  {
   "cell_type": "code",
   "execution_count": 1,
   "metadata": {
    "collapsed": true
   },
   "outputs": [],
   "source": [
    "# import os\n",
    "from pyspark.sql import SparkSession\n",
    "from pyspark.sql.functions import col\n",
    "from pyspark import SparkContext "
   ]
  },
  {
   "cell_type": "code",
   "execution_count": 2,
   "metadata": {
    "collapsed": true
   },
   "outputs": [],
   "source": [
    "os.environ['PYSPARK_SUBMIT_ARGS'] = '--packages com.datastax.spark:spark-cassandra-connector_2.11:2.4.3 --conf spark.cassandra.connection.host=93.175.29.107,93.175.29.109,93.175.29.110,93.175.29.111,93.175.29.113,93.175.29.114,93.175.29.115,93.175.29.116 pyspark-shell'"
   ]
  },
  {
   "cell_type": "code",
   "execution_count": 3,
   "metadata": {
    "collapsed": true
   },
   "outputs": [],
   "source": [
    "SparkContext.getOrCreate().stop()"
   ]
  },
  {
   "cell_type": "code",
   "execution_count": 4,
   "metadata": {
    "collapsed": false
   },
   "outputs": [],
   "source": [
    "spark = SparkSession.builder \\\n",
    "    .appName(\"CassandraIntegration\") \\\n",
    "    .config(\"spark.jars.packages\", \"com.datastax.spark:spark-cassandra-connector_2.11:2.4.3\") \\\n",
    "    .config(\"spark.cassandra.connection.host\", \"93.175.29.107,93.175.29.109,93.175.29.110,93.175.29.111,93.175.29.113,93.175.29.114,93.175.29.115,93.175.29\") \\\n",
    "    .config(\"spark.cassandra.connection.port\", \"9042\") \\\n",
    "    .getOrCreate()"
   ]
  },
  {
   "cell_type": "code",
   "execution_count": 5,
   "metadata": {
    "collapsed": false
   },
   "outputs": [],
   "source": [
    "# List keyspaces to validate connection\n",
    "def list_keyspaces():\n",
    "    df = spark.read \\\n",
    "        .format(\"org.apache.spark.sql.cassandra\") \\\n",
    "        .options(table=\"keyspaces\", keyspace=\"system_schema\") \\\n",
    "        .load()\n",
    "    return df\n"
   ]
  },
  {
   "cell_type": "code",
   "execution_count": 6,
   "metadata": {
    "collapsed": false
   },
   "outputs": [
    {
     "name": "stdout",
     "output_type": "stream",
     "text": [
      "DataFrame[keyspace_name: string, durable_writes: boolean, replication: map<string,string>]\n"
     ]
    }
   ],
   "source": [
    "print(list_keyspaces())"
   ]
  },
  {
   "cell_type": "code",
   "execution_count": 7,
   "metadata": {
    "collapsed": true
   },
   "outputs": [],
   "source": [
    "def load_data_from_cassandra(keyspace, table):\n",
    "    df = spark.read \\\n",
    "        .format('org.apache.spark.sql.cassandra') \\\n",
    "        .options(table=table, keyspace=keyspace) \\\n",
    "        .load()\n",
    "    return df"
   ]
  },
  {
   "cell_type": "code",
   "execution_count": 8,
   "metadata": {
    "collapsed": false
   },
   "outputs": [],
   "source": [
    "movies = load_data_from_cassandra('fedotov19', 'videos')"
   ]
  },
  {
   "cell_type": "code",
   "execution_count": 9,
   "metadata": {
    "collapsed": false
   },
   "outputs": [
    {
     "name": "stdout",
     "output_type": "stream",
     "text": [
      "DataFrame[video_id: string, added_date: timestamp, description: string, title: string, user_id: string]\n"
     ]
    }
   ],
   "source": [
    "print(movies)"
   ]
  },
  {
   "cell_type": "code",
   "execution_count": 10,
   "metadata": {
    "collapsed": false
   },
   "outputs": [
    {
     "name": "stdout",
     "output_type": "stream",
     "text": [
      "+--------------------+--------------+--------------------+\n",
      "|       keyspace_name|durable_writes|         replication|\n",
      "+--------------------+--------------+--------------------+\n",
      "|hob2020034_hob202...|          true|[class -> org.apa...|\n",
      "|          hob2020045|          true|[class -> org.apa...|\n",
      "|    shkunkov_hw_pubg|          true|[class -> org.apa...|\n",
      "|   babinolegkeyspace|          true|[class -> org.apa...|\n",
      "|   msb202017keyspace|          true|[class -> org.apa...|\n",
      "|             test123|          true|[class -> org.apa...|\n",
      "|     chebotariv_test|          true|[class -> org.apa...|\n",
      "|             dungeon|          true|[class -> org.apa...|\n",
      "|            ttansh28|          true|[class -> org.apa...|\n",
      "|          astanovaks|          true|[class -> org.apa...|\n",
      "|           ache_test|          true|[class -> org.apa...|\n",
      "|  akhmatdianov_aleks|          true|[class -> org.apa...|\n",
      "|           hob201907|          true|[class -> org.apa...|\n",
      "|          andresokol|          true|[class -> org.apa...|\n",
      "|       hobod2024s165|          true|[class -> org.apa...|\n",
      "|              ivanan|          true|[class -> org.apa...|\n",
      "|     pd2025akhtyamov|          true|[class -> org.apa...|\n",
      "|     hob2023001_test|          true|[class -> org.apa...|\n",
      "|  hob2021189keyspace|          true|[class -> org.apa...|\n",
      "|      leskinkeyspace|          true|[class -> org.apa...|\n",
      "+--------------------+--------------+--------------------+\n",
      "only showing top 20 rows\n",
      "\n"
     ]
    }
   ],
   "source": [
    "df_keyspaces = spark.read \\\n",
    "    .format(\"org.apache.spark.sql.cassandra\") \\\n",
    "    .options(table=\"keyspaces\", keyspace=\"system_schema\") \\\n",
    "    .load()\n",
    "\n",
    "df_keyspaces.show()"
   ]
  }
 ],
 "metadata": {
  "kernelspec": {
   "display_name": "Python 3",
   "language": "python",
   "name": "python3"
  },
  "language_info": {
   "codemirror_mode": {
    "name": "ipython",
    "version": 3
   },
   "file_extension": ".py",
   "mimetype": "text/x-python",
   "name": "python",
   "nbconvert_exporter": "python",
   "pygments_lexer": "ipython3",
   "version": "3.4.3"
  }
 },
 "nbformat": 4,
 "nbformat_minor": 2
}
