{
 "cells": [
  {
   "cell_type": "code",
   "execution_count": 13,
   "metadata": {
    "collapsed": false
   },
   "outputs": [],
   "source": [
    "from cassandra.cluster import Cluster\n",
    "from cassandra.auth import PlainTextAuthProvider\n",
    "\n",
    "# Настройки подключения\n",
    "auth_provider = PlainTextAuthProvider(username='cassandra', password='cassandra')\n",
    "cluster = Cluster([\n",
    "    '93.175.29.107',\n",
    "    '93.175.29.108',\n",
    "    '93.175.29.109',\n",
    "    '93.175.29.110',\n",
    "    '93.175.29.111',\n",
    "    '93.175.29.114',\n",
    "    '93.175.29.115',\n",
    "    '93.175.29.116'\n",
    "], auth_provider=auth_provider)\n",
    "session = cluster.connect()\n",
    "\n",
    "session.execute(\"\"\"\n",
    "CREATE KEYSPACE IF NOT EXISTS cassandra_python_demo \n",
    "WITH REPLICATION = { \n",
    "    'class': 'NetworkTopologyStrategy', \n",
    "    'dc1': 3 \n",
    "}\n",
    "\"\"\")\n",
    "\n",
    "# Выбор Keyspace\n",
    "session.set_keyspace('cassandra_python_demo')\n",
    "\n"
   ]
  },
  {
   "cell_type": "code",
   "execution_count": 14,
   "metadata": {
    "collapsed": false
   },
   "outputs": [
    {
     "name": "stdout",
     "output_type": "stream",
     "text": [
      "\n",
      "=== Reading Data ===\n",
      "Row(keyspace_name='for2021001', durable_writes=True, replication=OrderedMapSerializedKey([('class', 'org.apache.cassandra.locator.SimpleStrategy'), ('replication_factor', '2')]))\n",
      "Row(keyspace_name='mila_hw', durable_writes=True, replication=OrderedMapSerializedKey([('class', 'org.apache.cassandra.locator.NetworkTopologyStrategy'), ('dc1', '3')]))\n",
      "Row(keyspace_name='killrvideo', durable_writes=True, replication=OrderedMapSerializedKey([('class', 'org.apache.cassandra.locator.SimpleStrategy'), ('replication_factor', '1')]))\n",
      "Row(keyspace_name='hob2023001_test', durable_writes=True, replication=OrderedMapSerializedKey([('class', 'org.apache.cassandra.locator.SimpleStrategy'), ('replication_factor', '1')]))\n",
      "Row(keyspace_name='korzh_space', durable_writes=True, replication=OrderedMapSerializedKey([('class', 'org.apache.cassandra.locator.NetworkTopologyStrategy'), ('dc1', '3')]))\n",
      "Row(keyspace_name='for2021004', durable_writes=True, replication=OrderedMapSerializedKey([('class', 'org.apache.cassandra.locator.SimpleStrategy'), ('replication_factor', '2')]))\n",
      "Row(keyspace_name='keyspace_rovnik', durable_writes=True, replication=OrderedMapSerializedKey([('class', 'org.apache.cassandra.locator.SimpleStrategy'), ('replication_factor', '3')]))\n",
      "Row(keyspace_name='hob23145', durable_writes=True, replication=OrderedMapSerializedKey([('class', 'org.apache.cassandra.locator.SimpleStrategy'), ('replication_factor', '3')]))\n",
      "Row(keyspace_name='ahmadzhonovmu', durable_writes=True, replication=OrderedMapSerializedKey([('DC1', '1'), ('class', 'org.apache.cassandra.locator.NetworkTopologyStrategy'), ('dc1', '3')]))\n",
      "Row(keyspace_name='dvoronetskiy', durable_writes=True, replication=OrderedMapSerializedKey([('class', 'org.apache.cassandra.locator.SimpleStrategy'), ('replication_factor', '3')]))\n",
      "Row(keyspace_name='university16', durable_writes=True, replication=OrderedMapSerializedKey([('class', 'org.apache.cassandra.locator.SimpleStrategy'), ('replication_factor', '3')]))\n",
      "Row(keyspace_name='hob2021189keyspace', durable_writes=True, replication=OrderedMapSerializedKey([('class', 'org.apache.cassandra.locator.SimpleStrategy'), ('replication_factor', '3')]))\n",
      "Row(keyspace_name='hob201910', durable_writes=True, replication=OrderedMapSerializedKey([('class', 'org.apache.cassandra.locator.SimpleStrategy'), ('replication_factor', '2')]))\n",
      "Row(keyspace_name='hob2020044', durable_writes=True, replication=OrderedMapSerializedKey([('class', 'org.apache.cassandra.locator.SimpleStrategy'), ('replication_factor', '1')]))\n",
      "Row(keyspace_name='test_test', durable_writes=True, replication=OrderedMapSerializedKey([('class', 'org.apache.cassandra.locator.SimpleStrategy'), ('replication_factor', '1')]))\n",
      "Row(keyspace_name='hob2020034keyspace', durable_writes=True, replication=OrderedMapSerializedKey([('class', 'org.apache.cassandra.locator.SimpleStrategy'), ('replication_factor', '3')]))\n",
      "Row(keyspace_name='hob2020034_hob2020034_keyspace', durable_writes=True, replication=OrderedMapSerializedKey([('class', 'org.apache.cassandra.locator.SimpleStrategy'), ('replication_factor', '3')]))\n",
      "Row(keyspace_name='hob2020045', durable_writes=True, replication=OrderedMapSerializedKey([('class', 'org.apache.cassandra.locator.SimpleStrategy'), ('replication_factor', '3')]))\n",
      "Row(keyspace_name='kryzhanovskaya_dk', durable_writes=True, replication=OrderedMapSerializedKey([('DC1', '3'), ('class', 'org.apache.cassandra.locator.NetworkTopologyStrategy'), ('dc1', '3')]))\n",
      "Row(keyspace_name='leskinkeyspace', durable_writes=True, replication=OrderedMapSerializedKey([('class', 'org.apache.cassandra.locator.SimpleStrategy'), ('replication_factor', '3')]))\n",
      "Row(keyspace_name='pd2020012keyspace', durable_writes=True, replication=OrderedMapSerializedKey([('class', 'org.apache.cassandra.locator.SimpleStrategy'), ('replication_factor', '3')]))\n",
      "Row(keyspace_name='muradov', durable_writes=True, replication=OrderedMapSerializedKey([('DC1', '0'), ('class', 'org.apache.cassandra.locator.NetworkTopologyStrategy'), ('dc1', '0')]))\n",
      "Row(keyspace_name='emgostkinkeyspace', durable_writes=True, replication=OrderedMapSerializedKey([('class', 'org.apache.cassandra.locator.SimpleStrategy'), ('replication_factor', '3')]))\n",
      "Row(keyspace_name='hob201950', durable_writes=True, replication=OrderedMapSerializedKey([('class', 'org.apache.cassandra.locator.SimpleStrategy'), ('replication_factor', '2')]))\n",
      "Row(keyspace_name='kuskarov01', durable_writes=True, replication=OrderedMapSerializedKey([('class', 'org.apache.cassandra.locator.SimpleStrategy'), ('replication_factor', '3')]))\n",
      "Row(keyspace_name='hob201945', durable_writes=True, replication=OrderedMapSerializedKey([('class', 'org.apache.cassandra.locator.SimpleStrategy'), ('replication_factor', '2')]))\n",
      "Row(keyspace_name='hob201945_', durable_writes=True, replication=OrderedMapSerializedKey([('class', 'org.apache.cassandra.locator.SimpleStrategy'), ('replication_factor', '2')]))\n",
      "Row(keyspace_name='hob2020045keyspace', durable_writes=True, replication=OrderedMapSerializedKey([('class', 'org.apache.cassandra.locator.SimpleStrategy'), ('replication_factor', '3')]))\n",
      "Row(keyspace_name='hobod2024s080', durable_writes=True, replication=OrderedMapSerializedKey([('class', 'org.apache.cassandra.locator.SimpleStrategy'), ('replication_factor', '3')]))\n",
      "Row(keyspace_name='Ivan_Fedotov', durable_writes=True, replication=OrderedMapSerializedKey([('class', 'org.apache.cassandra.locator.SimpleStrategy'), ('replication_factor', '1')]))\n",
      "Row(keyspace_name='buzmakov_dmitriy', durable_writes=True, replication=OrderedMapSerializedKey([('class', 'org.apache.cassandra.locator.SimpleStrategy'), ('replication_factor', '2')]))\n",
      "Row(keyspace_name='system_auth', durable_writes=True, replication=OrderedMapSerializedKey([('class', 'org.apache.cassandra.locator.SimpleStrategy'), ('replication_factor', '1')]))\n",
      "Row(keyspace_name='honeybad3er', durable_writes=True, replication=OrderedMapSerializedKey([('class', 'org.apache.cassandra.locator.SimpleStrategy'), ('replication_factor', '3')]))\n",
      "Row(keyspace_name='Andrey_Kachetov', durable_writes=True, replication=OrderedMapSerializedKey([('class', 'org.apache.cassandra.locator.SimpleStrategy'), ('replication_factor', '1')]))\n",
      "Row(keyspace_name='myikeyspace', durable_writes=True, replication=OrderedMapSerializedKey([('class', 'org.apache.cassandra.locator.SimpleStrategy'), ('replication_factor', '3')]))\n",
      "Row(keyspace_name='shkunkov_hw_pubg', durable_writes=True, replication=OrderedMapSerializedKey([('class', 'org.apache.cassandra.locator.SimpleStrategy'), ('replication_factor', '3')]))\n",
      "Row(keyspace_name='university5', durable_writes=True, replication=OrderedMapSerializedKey([('class', 'org.apache.cassandra.locator.SimpleStrategy'), ('replication_factor', '3')]))\n",
      "Row(keyspace_name='babinolegkeyspace', durable_writes=True, replication=OrderedMapSerializedKey([('class', 'org.apache.cassandra.locator.SimpleStrategy'), ('replication_factor', '3')]))\n",
      "Row(keyspace_name='hob2021041', durable_writes=True, replication=OrderedMapSerializedKey([('class', 'org.apache.cassandra.locator.SimpleStrategy'), ('replication_factor', '3')]))\n",
      "Row(keyspace_name='hob2021189_2', durable_writes=True, replication=OrderedMapSerializedKey([('class', 'org.apache.cassandra.locator.SimpleStrategy'), ('replication_factor', '3')]))\n",
      "Row(keyspace_name='msb202017keyspace', durable_writes=True, replication=OrderedMapSerializedKey([('class', 'org.apache.cassandra.locator.SimpleStrategy'), ('replication_factor', '3')]))\n",
      "Row(keyspace_name='ekonovalov', durable_writes=True, replication=OrderedMapSerializedKey([('class', 'org.apache.cassandra.locator.SimpleStrategy'), ('replication_factor', '3')]))\n",
      "Row(keyspace_name='system_schema', durable_writes=True, replication=OrderedMapSerializedKey([('class', 'org.apache.cassandra.locator.LocalStrategy')]))\n",
      "Row(keyspace_name='hob2021189', durable_writes=True, replication=OrderedMapSerializedKey([('class', 'org.apache.cassandra.locator.SimpleStrategy'), ('replication_factor', '3')]))\n",
      "Row(keyspace_name='Ksenia_Klokova', durable_writes=True, replication=OrderedMapSerializedKey([('class', 'org.apache.cassandra.locator.SimpleStrategy'), ('replication_factor', '1')]))\n",
      "Row(keyspace_name='hobod2025s089keyspace', durable_writes=True, replication=OrderedMapSerializedKey([('class', 'org.apache.cassandra.locator.SimpleStrategy'), ('replication_factor', '3')]))\n",
      "Row(keyspace_name='popov_keyspace', durable_writes=True, replication=OrderedMapSerializedKey([('class', 'org.apache.cassandra.locator.SimpleStrategy'), ('replication_factor', '3')]))\n",
      "Row(keyspace_name='msb202011keyspace', durable_writes=True, replication=OrderedMapSerializedKey([('class', 'org.apache.cassandra.locator.SimpleStrategy'), ('replication_factor', '3')]))\n",
      "Row(keyspace_name='hob201928', durable_writes=True, replication=OrderedMapSerializedKey([('class', 'org.apache.cassandra.locator.SimpleStrategy'), ('replication_factor', '2')]))\n",
      "Row(keyspace_name='pubg_152', durable_writes=True, replication=OrderedMapSerializedKey([('class', 'org.apache.cassandra.locator.SimpleStrategy'), ('replication_factor', '1')]))\n",
      "Row(keyspace_name='universe', durable_writes=True, replication=OrderedMapSerializedKey([('class', 'org.apache.cassandra.locator.SimpleStrategy'), ('replication_factor', '3')]))\n",
      "Row(keyspace_name='test123', durable_writes=True, replication=OrderedMapSerializedKey([('class', 'org.apache.cassandra.locator.SimpleStrategy'), ('replication_factor', '3')]))\n",
      "Row(keyspace_name='tkuskarov', durable_writes=True, replication=OrderedMapSerializedKey([('class', 'org.apache.cassandra.locator.SimpleStrategy'), ('replication_factor', '3')]))\n",
      "Row(keyspace_name='pd2023akhtest', durable_writes=True, replication=OrderedMapSerializedKey([('class', 'org.apache.cassandra.locator.SimpleStrategy'), ('replication_factor', '3')]))\n",
      "Row(keyspace_name='hobod2024s159', durable_writes=True, replication=OrderedMapSerializedKey([('DC1', '1'), ('class', 'org.apache.cassandra.locator.NetworkTopologyStrategy'), ('dc1', '3')]))\n",
      "Row(keyspace_name='andrey_kachetov', durable_writes=True, replication=OrderedMapSerializedKey([('class', 'org.apache.cassandra.locator.NetworkTopologyStrategy')]))\n",
      "Row(keyspace_name='hob2021021keyspace', durable_writes=True, replication=OrderedMapSerializedKey([('class', 'org.apache.cassandra.locator.SimpleStrategy'), ('replication_factor', '3')]))\n",
      "Row(keyspace_name='ach', durable_writes=True, replication=OrderedMapSerializedKey([('class', 'org.apache.cassandra.locator.SimpleStrategy'), ('replication_factor', '3')]))\n",
      "Row(keyspace_name='korneeva_pubg', durable_writes=True, replication=OrderedMapSerializedKey([('class', 'org.apache.cassandra.locator.SimpleStrategy'), ('replication_factor', '3')]))\n",
      "Row(keyspace_name='Liza_Dakhova', durable_writes=True, replication=OrderedMapSerializedKey([('class', 'org.apache.cassandra.locator.SimpleStrategy'), ('replication_factor', '1')]))\n",
      "Row(keyspace_name='vinogradovse', durable_writes=True, replication=OrderedMapSerializedKey([('DC1', '1'), ('class', 'org.apache.cassandra.locator.NetworkTopologyStrategy'), ('dc1', '3')]))\n",
      "Row(keyspace_name='the_best_keyspace', durable_writes=True, replication=OrderedMapSerializedKey([('class', 'org.apache.cassandra.locator.SimpleStrategy'), ('replication_factor', '10')]))\n",
      "Row(keyspace_name='hob2021223_keyspace', durable_writes=True, replication=OrderedMapSerializedKey([('class', 'org.apache.cassandra.locator.NetworkTopologyStrategy'), ('dc1', '3')]))\n",
      "Row(keyspace_name='alexborisov_keyspace', durable_writes=True, replication=OrderedMapSerializedKey([('class', 'org.apache.cassandra.locator.SimpleStrategy'), ('replication_factor', '3')]))\n",
      "Row(keyspace_name='hob2021114', durable_writes=True, replication=OrderedMapSerializedKey([('class', 'org.apache.cassandra.locator.NetworkTopologyStrategy'), ('dc1', '3')]))\n",
      "Row(keyspace_name='chebotariv_hw', durable_writes=True, replication=OrderedMapSerializedKey([('class', 'org.apache.cassandra.locator.SimpleStrategy'), ('replication_factor', '1')]))\n",
      "Row(keyspace_name='tkuskarov03', durable_writes=True, replication=OrderedMapSerializedKey([('class', 'org.apache.cassandra.locator.SimpleStrategy'), ('replication_factor', '3')]))\n",
      "Row(keyspace_name='university4', durable_writes=True, replication=OrderedMapSerializedKey([('class', 'org.apache.cassandra.locator.SimpleStrategy'), ('replication_factor', '3')]))\n",
      "Row(keyspace_name='chebotariv_test', durable_writes=True, replication=OrderedMapSerializedKey([('class', 'org.apache.cassandra.locator.SimpleStrategy'), ('replication_factor', '1')]))\n",
      "Row(keyspace_name='gem', durable_writes=True, replication=OrderedMapSerializedKey([('class', 'org.apache.cassandra.locator.SimpleStrategy'), ('replication_factor', '3')]))\n",
      "Row(keyspace_name='sevruchtelkeyspace', durable_writes=True, replication=OrderedMapSerializedKey([('class', 'org.apache.cassandra.locator.SimpleStrategy'), ('replication_factor', '3')]))\n",
      "Row(keyspace_name='alexelex_keyspace', durable_writes=True, replication=OrderedMapSerializedKey([('class', 'org.apache.cassandra.locator.SimpleStrategy'), ('replication_factor', '3')]))\n",
      "Row(keyspace_name='dungeon', durable_writes=True, replication=OrderedMapSerializedKey([('class', 'org.apache.cassandra.locator.SimpleStrategy'), ('replication_factor', '3')]))\n",
      "Row(keyspace_name='ttansh28', durable_writes=True, replication=OrderedMapSerializedKey([('class', 'org.apache.cassandra.locator.SimpleStrategy'), ('replication_factor', '1')]))\n",
      "Row(keyspace_name='akhtyamovpavel2020', durable_writes=True, replication=OrderedMapSerializedKey([('class', 'org.apache.cassandra.locator.SimpleStrategy'), ('replication_factor', '3')]))\n",
      "Row(keyspace_name='astanovaks', durable_writes=True, replication=OrderedMapSerializedKey([('class', 'org.apache.cassandra.locator.SimpleStrategy'), ('replication_factor', '1')]))\n",
      "Row(keyspace_name='python_demo', durable_writes=True, replication=OrderedMapSerializedKey([('class', 'org.apache.cassandra.locator.SimpleStrategy'), ('replication_factor', '1')]))\n",
      "Row(keyspace_name='velkerrkeyspace', durable_writes=True, replication=OrderedMapSerializedKey([('class', 'org.apache.cassandra.locator.SimpleStrategy'), ('replication_factor', '3')]))\n",
      "Row(keyspace_name='lukjanovankeyspace', durable_writes=True, replication=OrderedMapSerializedKey([('class', 'org.apache.cassandra.locator.SimpleStrategy'), ('replication_factor', '3')]))\n",
      "Row(keyspace_name='keyspace1', durable_writes=True, replication=OrderedMapSerializedKey([('class', 'org.apache.cassandra.locator.SimpleStrategy'), ('replication_factor', '1')]))\n",
      "Row(keyspace_name='university1', durable_writes=True, replication=OrderedMapSerializedKey([('class', 'org.apache.cassandra.locator.SimpleStrategy'), ('replication_factor', '3')]))\n",
      "Row(keyspace_name='oborotovmi', durable_writes=True, replication=OrderedMapSerializedKey([('DC1', '1'), ('class', 'org.apache.cassandra.locator.NetworkTopologyStrategy'), ('dc1', '3')]))\n",
      "Row(keyspace_name='hob2021224', durable_writes=True, replication=OrderedMapSerializedKey([('class', 'org.apache.cassandra.locator.SimpleStrategy'), ('replication_factor', '3')]))\n",
      "Row(keyspace_name='hob2021224_v1', durable_writes=True, replication=OrderedMapSerializedKey([('class', 'org.apache.cassandra.locator.SimpleStrategy'), ('replication_factor', '2')]))\n",
      "Row(keyspace_name='fedotov19', durable_writes=True, replication=OrderedMapSerializedKey([('DC1', '1'), ('class', 'org.apache.cassandra.locator.NetworkTopologyStrategy'), ('dc1', '2')]))\n",
      "Row(keyspace_name='hob2023001', durable_writes=True, replication=OrderedMapSerializedKey([('class', 'org.apache.cassandra.locator.SimpleStrategy'), ('replication_factor', '3')]))\n",
      "Row(keyspace_name='tkuskarov04', durable_writes=True, replication=OrderedMapSerializedKey([('class', 'org.apache.cassandra.locator.SimpleStrategy'), ('replication_factor', '3')]))\n",
      "Row(keyspace_name='test1', durable_writes=True, replication=OrderedMapSerializedKey([('class', 'org.apache.cassandra.locator.SimpleStrategy'), ('replication_factor', '3')]))\n",
      "Row(keyspace_name='gavrilovskijda', durable_writes=True, replication=OrderedMapSerializedKey([('DC1', '1'), ('class', 'org.apache.cassandra.locator.NetworkTopologyStrategy'), ('dc1', '1')]))\n",
      "Row(keyspace_name='mininan_hse', durable_writes=True, replication=OrderedMapSerializedKey([('class', 'org.apache.cassandra.locator.SimpleStrategy'), ('replication_factor', '3')]))\n",
      "Row(keyspace_name='hob2023001_test1', durable_writes=True, replication=OrderedMapSerializedKey([('class', 'org.apache.cassandra.locator.SimpleStrategy'), ('replication_factor', '1')]))\n",
      "Row(keyspace_name='yo', durable_writes=True, replication=OrderedMapSerializedKey([('class', 'org.apache.cassandra.locator.SimpleStrategy'), ('replication_factor', '1')]))\n",
      "Row(keyspace_name='hob201912', durable_writes=True, replication=OrderedMapSerializedKey([('class', 'org.apache.cassandra.locator.SimpleStrategy'), ('replication_factor', '3')]))\n",
      "Row(keyspace_name='hobod2025s089', durable_writes=False, replication=OrderedMapSerializedKey([('class', 'org.apache.cassandra.locator.SimpleStrategy'), ('replication_factor', '3')]))\n",
      "Row(keyspace_name='ache_test', durable_writes=True, replication=OrderedMapSerializedKey([('class', 'org.apache.cassandra.locator.NetworkTopologyStrategy'), ('dc1', '3')]))\n",
      "Row(keyspace_name='surname', durable_writes=True, replication=OrderedMapSerializedKey([('class', 'org.apache.cassandra.locator.SimpleStrategy'), ('replication_factor', '3')]))\n",
      "Row(keyspace_name='oleg_somov_keyspace', durable_writes=True, replication=OrderedMapSerializedKey([('class', 'org.apache.cassandra.locator.SimpleStrategy'), ('replication_factor', '1')]))\n",
      "Row(keyspace_name='akhmatdianov_aleks', durable_writes=True, replication=OrderedMapSerializedKey([('class', 'org.apache.cassandra.locator.SimpleStrategy'), ('replication_factor', '1')]))\n",
      "Row(keyspace_name='university15', durable_writes=True, replication=OrderedMapSerializedKey([('class', 'org.apache.cassandra.locator.SimpleStrategy'), ('replication_factor', '3')]))\n",
      "Row(keyspace_name='keyspace_hob201944', durable_writes=True, replication=OrderedMapSerializedKey([('class', 'org.apache.cassandra.locator.SimpleStrategy'), ('replication_factor', '2')]))\n",
      "Row(keyspace_name='hob201907', durable_writes=True, replication=OrderedMapSerializedKey([('class', 'org.apache.cassandra.locator.SimpleStrategy'), ('replication_factor', '2')]))\n",
      "Row(keyspace_name='andresokol', durable_writes=True, replication=OrderedMapSerializedKey([('class', 'org.apache.cassandra.locator.SimpleStrategy'), ('replication_factor', '1')]))\n",
      "Row(keyspace_name='system_distributed', durable_writes=True, replication=OrderedMapSerializedKey([('class', 'org.apache.cassandra.locator.SimpleStrategy'), ('replication_factor', '3')]))\n",
      "Row(keyspace_name='system', durable_writes=True, replication=OrderedMapSerializedKey([('class', 'org.apache.cassandra.locator.LocalStrategy')]))\n",
      "Row(keyspace_name='islamaf', durable_writes=True, replication=OrderedMapSerializedKey([('class', 'org.apache.cassandra.locator.SimpleStrategy'), ('replication_factor', '3')]))\n",
      "Row(keyspace_name='hobod2024s165', durable_writes=True, replication=OrderedMapSerializedKey([('class', 'org.apache.cassandra.locator.SimpleStrategy'), ('replication_factor', '3')]))\n",
      "Row(keyspace_name='hobod2025s008', durable_writes=True, replication=OrderedMapSerializedKey([('class', 'org.apache.cassandra.locator.SimpleStrategy'), ('replication_factor', '1')]))\n",
      "Row(keyspace_name='pubg', durable_writes=True, replication=OrderedMapSerializedKey([('class', 'org.apache.cassandra.locator.SimpleStrategy'), ('replication_factor', '3')]))\n",
      "Row(keyspace_name='s010test', durable_writes=False, replication=OrderedMapSerializedKey([('class', 'org.apache.cassandra.locator.SimpleStrategy'), ('replication_factor', '3')]))\n",
      "Row(keyspace_name='hob2021146keyspace', durable_writes=True, replication=OrderedMapSerializedKey([('class', 'org.apache.cassandra.locator.SimpleStrategy'), ('replication_factor', '3')]))\n",
      "Row(keyspace_name='ivanan', durable_writes=True, replication=OrderedMapSerializedKey([('class', 'org.apache.cassandra.locator.SimpleStrategy'), ('replication_factor', '3')]))\n",
      "Row(keyspace_name='dragunk', durable_writes=True, replication=OrderedMapSerializedKey([('class', 'org.apache.cassandra.locator.SimpleStrategy'), ('replication_factor', '3')]))\n",
      "Row(keyspace_name='irusland', durable_writes=True, replication=OrderedMapSerializedKey([('class', 'org.apache.cassandra.locator.SimpleStrategy'), ('replication_factor', '2')]))\n",
      "Row(keyspace_name='Umar2', durable_writes=True, replication=OrderedMapSerializedKey([('class', 'org.apache.cassandra.locator.SimpleStrategy'), ('replication_factor', '3')]))\n",
      "Row(keyspace_name='akhtyamovkeyspace', durable_writes=True, replication=OrderedMapSerializedKey([('class', 'org.apache.cassandra.locator.SimpleStrategy'), ('replication_factor', '3')]))\n",
      "Row(keyspace_name='ks_sem16_test_14dec', durable_writes=True, replication=OrderedMapSerializedKey([('class', 'org.apache.cassandra.locator.SimpleStrategy'), ('replication_factor', '2')]))\n",
      "Row(keyspace_name='hob2021037', durable_writes=True, replication=OrderedMapSerializedKey([('class', 'org.apache.cassandra.locator.NetworkTopologyStrategy'), ('dc1', '3')]))\n",
      "Row(keyspace_name='hob2021255keyspace', durable_writes=True, replication=OrderedMapSerializedKey([('class', 'org.apache.cassandra.locator.SimpleStrategy'), ('replication_factor', '3')]))\n",
      "Row(keyspace_name='task1_keyspace', durable_writes=True, replication=OrderedMapSerializedKey([('class', 'org.apache.cassandra.locator.SimpleStrategy'), ('replication_factor', '3')]))\n",
      "Row(keyspace_name='tkuskarov05', durable_writes=True, replication=OrderedMapSerializedKey([('class', 'org.apache.cassandra.locator.SimpleStrategy'), ('replication_factor', '3')]))\n",
      "Row(keyspace_name='k_agliullin_hw_pubg', durable_writes=True, replication=OrderedMapSerializedKey([('class', 'org.apache.cassandra.locator.SimpleStrategy'), ('replication_factor', '3')]))\n",
      "Row(keyspace_name='achernet', durable_writes=True, replication=OrderedMapSerializedKey([('class', 'org.apache.cassandra.locator.SimpleStrategy'), ('replication_factor', '3')]))\n",
      "Row(keyspace_name='ekonovlaov', durable_writes=True, replication=OrderedMapSerializedKey([('class', 'org.apache.cassandra.locator.SimpleStrategy'), ('replication_factor', '3')]))\n",
      "Row(keyspace_name='ovchinnikova', durable_writes=True, replication=OrderedMapSerializedKey([('DC1', '1'), ('class', 'org.apache.cassandra.locator.NetworkTopologyStrategy'), ('dc1', '3')]))\n",
      "Row(keyspace_name='hob2020033keyspace', durable_writes=True, replication=OrderedMapSerializedKey([('class', 'org.apache.cassandra.locator.SimpleStrategy'), ('replication_factor', '3')]))\n",
      "Row(keyspace_name='akhusainov_test_1', durable_writes=True, replication=OrderedMapSerializedKey([('class', 'org.apache.cassandra.locator.SimpleStrategy'), ('replication_factor', '3')]))\n",
      "Row(keyspace_name='mykeyspace', durable_writes=True, replication=OrderedMapSerializedKey([('class', 'org.apache.cassandra.locator.SimpleStrategy'), ('replication_factor', '2')]))\n",
      "Row(keyspace_name='hob2021114_new', durable_writes=False, replication=OrderedMapSerializedKey([('class', 'org.apache.cassandra.locator.NetworkTopologyStrategy'), ('dc1', '3')]))\n",
      "Row(keyspace_name='acriff', durable_writes=True, replication=OrderedMapSerializedKey([('class', 'org.apache.cassandra.locator.SimpleStrategy'), ('replication_factor', '2')]))\n",
      "Row(keyspace_name='pockonechnyy_ep', durable_writes=True, replication=OrderedMapSerializedKey([('class', 'org.apache.cassandra.locator.SimpleStrategy'), ('replication_factor', '3')]))\n",
      "Row(keyspace_name='petrosyan_victor', durable_writes=True, replication=OrderedMapSerializedKey([('class', 'org.apache.cassandra.locator.SimpleStrategy'), ('replication_factor', '1')]))\n",
      "Row(keyspace_name='nenashevni', durable_writes=True, replication=OrderedMapSerializedKey([('DC1', '3'), ('class', 'org.apache.cassandra.locator.NetworkTopologyStrategy'), ('dc1', '3')]))\n",
      "Row(keyspace_name='hobod2024s214_1', durable_writes=True, replication=OrderedMapSerializedKey([('class', 'org.apache.cassandra.locator.SimpleStrategy'), ('replication_factor', '3')]))\n",
      "Row(keyspace_name='tkuskarov06', durable_writes=True, replication=OrderedMapSerializedKey([('class', 'org.apache.cassandra.locator.SimpleStrategy'), ('replication_factor', '3')]))\n",
      "Row(keyspace_name='for2021002', durable_writes=True, replication=OrderedMapSerializedKey([('class', 'org.apache.cassandra.locator.SimpleStrategy'), ('replication_factor', '3')]))\n",
      "Row(keyspace_name='ulle', durable_writes=True, replication=OrderedMapSerializedKey([('DC1', '0'), ('class', 'org.apache.cassandra.locator.NetworkTopologyStrategy'), ('dc1', '0')]))\n",
      "Row(keyspace_name='esamorodova_test_keyspace', durable_writes=True, replication=OrderedMapSerializedKey([('class', 'org.apache.cassandra.locator.SimpleStrategy'), ('replication_factor', '7')]))\n",
      "Row(keyspace_name='bigredeye', durable_writes=True, replication=OrderedMapSerializedKey([('class', 'org.apache.cassandra.locator.SimpleStrategy'), ('replication_factor', '3')]))\n",
      "Row(keyspace_name='hob2020012keyspace', durable_writes=True, replication=OrderedMapSerializedKey([('class', 'org.apache.cassandra.locator.SimpleStrategy'), ('replication_factor', '3')]))\n",
      "Row(keyspace_name='universitymipt', durable_writes=True, replication=OrderedMapSerializedKey([('class', 'org.apache.cassandra.locator.SimpleStrategy'), ('replication_factor', '3')]))\n",
      "Row(keyspace_name='lukjanovan', durable_writes=True, replication=OrderedMapSerializedKey([('class', 'org.apache.cassandra.locator.SimpleStrategy'), ('replication_factor', '3')]))\n",
      "Row(keyspace_name='tkuskarov02', durable_writes=True, replication=OrderedMapSerializedKey([('class', 'org.apache.cassandra.locator.SimpleStrategy'), ('replication_factor', '3')]))\n",
      "Row(keyspace_name='azatik1000', durable_writes=True, replication=OrderedMapSerializedKey([('class', 'org.apache.cassandra.locator.SimpleStrategy'), ('replication_factor', '5')]))\n",
      "Row(keyspace_name='msb202007keyspace', durable_writes=True, replication=OrderedMapSerializedKey([('class', 'org.apache.cassandra.locator.SimpleStrategy'), ('replication_factor', '3')]))\n",
      "Row(keyspace_name='system_traces', durable_writes=True, replication=OrderedMapSerializedKey([('class', 'org.apache.cassandra.locator.SimpleStrategy'), ('replication_factor', '2')]))\n",
      "Row(keyspace_name='university', durable_writes=True, replication=OrderedMapSerializedKey([('class', 'org.apache.cassandra.locator.SimpleStrategy'), ('replication_factor', '3')]))\n",
      "Row(keyspace_name='hob201902', durable_writes=True, replication=OrderedMapSerializedKey([('class', 'org.apache.cassandra.locator.SimpleStrategy'), ('replication_factor', '2')]))\n",
      "Row(keyspace_name='belyakov_hse', durable_writes=True, replication=OrderedMapSerializedKey([('class', 'org.apache.cassandra.locator.SimpleStrategy'), ('replication_factor', '3')]))\n",
      "Row(keyspace_name='DmitrievDanilHw', durable_writes=True, replication=OrderedMapSerializedKey([('class', 'org.apache.cassandra.locator.NetworkTopologyStrategy'), ('dc1', '3')]))\n",
      "Row(keyspace_name='hobod2024s214_hw5', durable_writes=True, replication=OrderedMapSerializedKey([('class', 'org.apache.cassandra.locator.SimpleStrategy'), ('replication_factor', '3')]))\n",
      "Row(keyspace_name='hob2021115', durable_writes=True, replication=OrderedMapSerializedKey([('class', 'org.apache.cassandra.locator.SimpleStrategy'), ('replication_factor', '3')]))\n",
      "Row(keyspace_name='achernetskiykeyspace', durable_writes=True, replication=OrderedMapSerializedKey([('class', 'org.apache.cassandra.locator.SimpleStrategy'), ('replication_factor', '3')]))\n",
      "Row(keyspace_name='tansh28', durable_writes=False, replication=OrderedMapSerializedKey([('class', 'org.apache.cassandra.locator.SimpleStrategy'), ('replication_factor', '1')]))\n",
      "Row(keyspace_name='module_3', durable_writes=True, replication=OrderedMapSerializedKey([('class', 'org.apache.cassandra.locator.SimpleStrategy'), ('replication_factor', '1')]))\n",
      "Row(keyspace_name='kryzhanovskaya', durable_writes=True, replication=OrderedMapSerializedKey([('DC1', '0'), ('class', 'org.apache.cassandra.locator.NetworkTopologyStrategy'), ('dc1', '0')]))\n",
      "Row(keyspace_name='epic_keyspace228', durable_writes=True, replication=OrderedMapSerializedKey([('class', 'org.apache.cassandra.locator.SimpleStrategy'), ('replication_factor', '3')]))\n",
      "Row(keyspace_name='hob201916', durable_writes=True, replication=OrderedMapSerializedKey([('class', 'org.apache.cassandra.locator.SimpleStrategy'), ('replication_factor', '4')]))\n",
      "Row(keyspace_name='cassandratest', durable_writes=True, replication=OrderedMapSerializedKey([('class', 'org.apache.cassandra.locator.SimpleStrategy'), ('replication_factor', '1')]))\n",
      "Row(keyspace_name='msb202020', durable_writes=True, replication=OrderedMapSerializedKey([('class', 'org.apache.cassandra.locator.SimpleStrategy'), ('replication_factor', '3')]))\n",
      "Row(keyspace_name='hob2021234', durable_writes=True, replication=OrderedMapSerializedKey([('class', 'org.apache.cassandra.locator.SimpleStrategy'), ('replication_factor', '3')]))\n",
      "Row(keyspace_name='pd2025akhtyamov', durable_writes=True, replication=OrderedMapSerializedKey([('class', 'org.apache.cassandra.locator.SimpleStrategy'), ('replication_factor', '2')]))\n",
      "Row(keyspace_name='sevruchtel', durable_writes=True, replication=OrderedMapSerializedKey([('class', 'org.apache.cassandra.locator.SimpleStrategy'), ('replication_factor', '2')]))\n",
      "Row(keyspace_name='hob2020009keyspace', durable_writes=True, replication=OrderedMapSerializedKey([('class', 'org.apache.cassandra.locator.SimpleStrategy'), ('replication_factor', '3')]))\n",
      "Row(keyspace_name='ilpauzner_hse', durable_writes=True, replication=OrderedMapSerializedKey([('class', 'org.apache.cassandra.locator.SimpleStrategy'), ('replication_factor', '3')]))\n",
      "Row(keyspace_name='nmakeenkov', durable_writes=True, replication=OrderedMapSerializedKey([('class', 'org.apache.cassandra.locator.NetworkTopologyStrategy'), ('dc1', '3')]))\n",
      "Row(keyspace_name='anedoluzhko_keyspace', durable_writes=True, replication=OrderedMapSerializedKey([('class', 'org.apache.cassandra.locator.SimpleStrategy'), ('replication_factor', '3')]))\n",
      "Row(keyspace_name='kruglovma_test', durable_writes=True, replication=OrderedMapSerializedKey([('class', 'org.apache.cassandra.locator.SimpleStrategy'), ('replication_factor', '3')]))\n",
      "Row(keyspace_name='olegrok', durable_writes=True, replication=OrderedMapSerializedKey([('class', 'org.apache.cassandra.locator.SimpleStrategy'), ('replication_factor', '10')]))\n",
      "Row(keyspace_name='cassandra_python_demo', durable_writes=True, replication=OrderedMapSerializedKey([('class', 'org.apache.cassandra.locator.NetworkTopologyStrategy'), ('dc1', '3')]))\n",
      "Row(keyspace_name='shkunkov_hw', durable_writes=True, replication=OrderedMapSerializedKey([('class', 'org.apache.cassandra.locator.NetworkTopologyStrategy'), ('dc1', '3')]))\n",
      "Row(keyspace_name='hob201936', durable_writes=False, replication=OrderedMapSerializedKey([('class', 'org.apache.cassandra.locator.SimpleStrategy'), ('replication_factor', '3')]))\n",
      "Row(keyspace_name='fedorov', durable_writes=True, replication=OrderedMapSerializedKey([('DC1', '1'), ('class', 'org.apache.cassandra.locator.NetworkTopologyStrategy'), ('dc1', '3')]))\n",
      "Row(keyspace_name='achernetskiy2021', durable_writes=True, replication=OrderedMapSerializedKey([('DC1', '1'), ('class', 'org.apache.cassandra.locator.NetworkTopologyStrategy'), ('dc1', '1')]))\n",
      "Row(keyspace_name='Umar', durable_writes=True, replication=OrderedMapSerializedKey([('class', 'org.apache.cassandra.locator.SimpleStrategy'), ('replication_factor', '3')]))\n",
      "Row(keyspace_name='hob2020041keyspace', durable_writes=True, replication=OrderedMapSerializedKey([('class', 'org.apache.cassandra.locator.SimpleStrategy'), ('replication_factor', '3')]))\n",
      "Row(keyspace_name='korzh_space2', durable_writes=True, replication=OrderedMapSerializedKey([('class', 'org.apache.cassandra.locator.NetworkTopologyStrategy'), ('dc1', '3')]))\n"
     ]
    }
   ],
   "source": [
    "\n",
    "# Test Read\n",
    "print(\"\\n=== Reading Data ===\")\n",
    "rows = session.execute(\"SELECT * FROM system_schema.keyspaces;\")\n",
    "for row in rows:\n",
    "    print(row)"
   ]
  },
  {
   "cell_type": "code",
   "execution_count": 15,
   "metadata": {
    "collapsed": false
   },
   "outputs": [
    {
     "data": {
      "text/plain": [
       "<cassandra.cluster.ResultSet at 0x7f14d46badd8>"
      ]
     },
     "execution_count": 15,
     "metadata": {},
     "output_type": "execute_result"
    }
   ],
   "source": [
    "# Создание Таблицы\n",
    "session.execute(\"\"\"\n",
    "CREATE TABLE IF NOT EXISTS users (\n",
    "    id UUID PRIMARY KEY,\n",
    "    name TEXT,\n",
    "    age INT,\n",
    "    city TEXT\n",
    ")\n",
    "\"\"\")"
   ]
  },
  {
   "cell_type": "code",
   "execution_count": 16,
   "metadata": {
    "collapsed": false
   },
   "outputs": [
    {
     "name": "stdout",
     "output_type": "stream",
     "text": [
      "\n",
      "=== Tables in Keyspace 'python_demo' ===\n",
      "users\n"
     ]
    }
   ],
   "source": [
    "rows = session.execute(\"\"\"\n",
    "    SELECT table_name \n",
    "    FROM system_schema.tables \n",
    "    WHERE keyspace_name = 'python_demo';\n",
    "\"\"\")\n",
    "\n",
    "print(\"\\n=== Tables in Keyspace 'python_demo' ===\")\n",
    "for row in rows:\n",
    "    print(row.table_name)"
   ]
  },
  {
   "cell_type": "code",
   "execution_count": 18,
   "metadata": {
    "collapsed": false
   },
   "outputs": [
    {
     "data": {
      "text/plain": [
       "<cassandra.cluster.ResultSet at 0x7f14d45c2e80>"
      ]
     },
     "execution_count": 18,
     "metadata": {},
     "output_type": "execute_result"
    }
   ],
   "source": [
    "from uuid import uuid4\n",
    "\n",
    "# Вставка данных\n",
    "user_id = uuid4()\n",
    "session.execute(\"\"\"\n",
    "INSERT INTO users (id, name, age, city) \n",
    "VALUES (%s, %s, %s, %s)\n",
    "\"\"\", (user_id, 'Ivan Fedotov', 30, 'Berlin'))\n",
    "\n"
   ]
  },
  {
   "cell_type": "code",
   "execution_count": 23,
   "metadata": {
    "collapsed": false
   },
   "outputs": [
    {
     "name": "stdout",
     "output_type": "stream",
     "text": [
      "\n",
      "=== Чтение данных ===\n",
      "Row(id=UUID('056d6913-64e4-430b-9026-47300ae1fcd6'), age=29, city='Munich', name='Maria Smith')\n",
      "Row(id=UUID('0ff332e0-51e8-43c2-95a1-2f500e1eaced'), age=25, city='Berlin', name='Alex Johnson')\n",
      "Row(id=UUID('23f30e21-af72-4c1a-84a2-470943b462f1'), age=30, city='Munich', name='Ivan Fedotov')\n",
      "Row(id=UUID('d7b4cc3b-b0dd-4f23-94f1-22ef8ad7d83f'), age=25, city='Berlin', name='Alex Johnson')\n",
      "Row(id=UUID('4439da6c-f41a-4cf5-a03a-4e41feff1526'), age=29, city='Munich', name='Maria Smith')\n",
      "Row(id=UUID('f136499c-a2e9-44b9-a3f4-6985106fe7da'), age=30, city='Munich', name='Ivan Fedotov')\n",
      "Row(id=UUID('01225e68-2e3e-4092-a6c1-8378c2c324fd'), age=30, city='Berlin', name='Ivan Fedotov')\n"
     ]
    }
   ],
   "source": [
    "# Чтение данных\n",
    "print(\"\\n=== Чтение данных ===\")\n",
    "rows = session.execute(\"SELECT * FROM users\")\n",
    "for row in rows:\n",
    "    print(row)\n",
    "\n"
   ]
  },
  {
   "cell_type": "code",
   "execution_count": 20,
   "metadata": {
    "collapsed": false
   },
   "outputs": [
    {
     "name": "stdout",
     "output_type": "stream",
     "text": [
      "\n",
      "=== После обновления ===\n",
      "Row(id=UUID('0ff332e0-51e8-43c2-95a1-2f500e1eaced'), age=25, city='Berlin', name='Alex Johnson')\n",
      "Row(id=UUID('23f30e21-af72-4c1a-84a2-470943b462f1'), age=30, city='Munich', name='Ivan Fedotov')\n",
      "Row(id=UUID('4439da6c-f41a-4cf5-a03a-4e41feff1526'), age=29, city='Munich', name='Maria Smith')\n",
      "Row(id=UUID('f136499c-a2e9-44b9-a3f4-6985106fe7da'), age=30, city='Munich', name='Ivan Fedotov')\n",
      "Row(id=UUID('01225e68-2e3e-4092-a6c1-8378c2c324fd'), age=30, city='Berlin', name='Ivan Fedotov')\n"
     ]
    }
   ],
   "source": [
    "# Обновление данных\n",
    "session.execute(\"\"\"\n",
    "UPDATE users SET city = %s WHERE id = %s\n",
    "\"\"\", ('Munich', user_id))\n",
    "\n",
    "print(\"\\n=== После обновления ===\")\n",
    "rows = session.execute(\"SELECT * FROM users\")\n",
    "for row in rows:\n",
    "    print(row)"
   ]
  },
  {
   "cell_type": "code",
   "execution_count": 21,
   "metadata": {
    "collapsed": false
   },
   "outputs": [
    {
     "name": "stdout",
     "output_type": "stream",
     "text": [
      "\n",
      "=== Пагинация ===\n",
      "Row(id=UUID('0ff332e0-51e8-43c2-95a1-2f500e1eaced'), age=25, city='Berlin', name='Alex Johnson')\n",
      "Row(id=UUID('23f30e21-af72-4c1a-84a2-470943b462f1'), age=30, city='Munich', name='Ivan Fedotov')\n",
      "Press Enter to load more...\n",
      "Row(id=UUID('4439da6c-f41a-4cf5-a03a-4e41feff1526'), age=29, city='Munich', name='Maria Smith')\n",
      "Row(id=UUID('f136499c-a2e9-44b9-a3f4-6985106fe7da'), age=30, city='Munich', name='Ivan Fedotov')\n",
      "Press Enter to load more...\n",
      "Row(id=UUID('01225e68-2e3e-4092-a6c1-8378c2c324fd'), age=30, city='Berlin', name='Ivan Fedotov')\n"
     ]
    }
   ],
   "source": [
    "# чтение порциями\n",
    "# Установка размера страницы (количество записей на одну порцию)\n",
    "session.default_fetch_size = 2  \n",
    "\n",
    "# Подготовленный запрос\n",
    "statement = session.prepare(\"SELECT * FROM users\")\n",
    "\n",
    "# Выполнение запроса с постраничной загрузкой\n",
    "print(\"\\n=== Пагинация ===\")\n",
    "result = session.execute(statement)\n",
    "\n",
    "# Печать первой страницы\n",
    "while True:\n",
    "    for row in result.current_rows:\n",
    "        print(row)\n",
    "    if result.has_more_pages:\n",
    "        input(\"Press Enter to load more...\")\n",
    "        result.fetch_next_page()\n",
    "    else:\n",
    "        break\n",
    "\n"
   ]
  },
  {
   "cell_type": "code",
   "execution_count": 22,
   "metadata": {
    "collapsed": false
   },
   "outputs": [
    {
     "name": "stdout",
     "output_type": "stream",
     "text": [
      "Batch insert completed.\n"
     ]
    }
   ],
   "source": [
    "# Создание батча\n",
    "from cassandra.query import BatchStatement\n",
    "\n",
    "batch = BatchStatement()\n",
    "user_id_1 = uuid4()\n",
    "user_id_2 = uuid4()\n",
    "\n",
    "batch.add(session.prepare(\"\"\"\n",
    "    INSERT INTO users (id, name, age, city) VALUES (?, ?, ?, ?)\n",
    "\"\"\"), (user_id_1, 'Alex Johnson', 25, 'Berlin'))\n",
    "\n",
    "batch.add(session.prepare(\"\"\"\n",
    "    INSERT INTO users (id, name, age, city) VALUES (?, ?, ?, ?)\n",
    "\"\"\"), (user_id_2, 'Maria Smith', 29, 'Munich'))\n",
    "\n",
    "# Выполнение батч-запроса\n",
    "session.execute(batch)\n",
    "print(\"Batch insert completed.\")"
   ]
  },
  {
   "cell_type": "code",
   "execution_count": 24,
   "metadata": {
    "collapsed": true
   },
   "outputs": [],
   "source": [
    "\n",
    "# Закрытие соединения\n",
    "cluster.shutdown()"
   ]
  },
  {
   "cell_type": "code",
   "execution_count": null,
   "metadata": {
    "collapsed": true
   },
   "outputs": [],
   "source": []
  }
 ],
 "metadata": {
  "kernelspec": {
   "display_name": "Python 3",
   "language": "python",
   "name": "python3"
  },
  "language_info": {
   "codemirror_mode": {
    "name": "ipython",
    "version": 3
   },
   "file_extension": ".py",
   "mimetype": "text/x-python",
   "name": "python",
   "nbconvert_exporter": "python",
   "pygments_lexer": "ipython3",
   "version": "3.4.3"
  }
 },
 "nbformat": 4,
 "nbformat_minor": 2
}
